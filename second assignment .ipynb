{
 "cells": [
  {
   "cell_type": "markdown",
   "id": "b81a7c41-b589-4dc5-85f1-c7e4acd9af00",
   "metadata": {},
   "source": [
    "Q1. Which keyword is used to create a function? Create a function to return a list of odd numbers in the\n",
    "range of 1 to 25."
   ]
  },
  {
   "cell_type": "markdown",
   "id": "f78a001f-4499-4d43-89be-6c0aae03b57f",
   "metadata": {},
   "source": [
    "                   The keyword used to create a function in Python is \"def\"."
   ]
  },
  {
   "cell_type": "markdown",
   "id": "79dfaae8-fba6-49e0-a026-c5efeda3b58b",
   "metadata": {},
   "source": [
    "            create function that returns a list of odd numbers in the range of 1 to 25"
   ]
  },
  {
   "cell_type": "code",
   "execution_count": 3,
   "id": "245af812-e049-4eaa-b006-e042115115af",
   "metadata": {},
   "outputs": [],
   "source": [
    "def odd_number():\n",
    "    # Create an empty list to store the odd numbers\n",
    "    odd = []\n",
    "\n",
    "    # Loop through the range of 1 to 25\n",
    "    for i in range(1, 26):\n",
    "        # Check if the number is odd\n",
    "        if i % 2 != 0:\n",
    "            # If the number is odd, append it to the odds list\n",
    "            odd.append(i)\n",
    "\n",
    "    # Return the odds list\n",
    "    return odd"
   ]
  },
  {
   "cell_type": "code",
   "execution_count": 4,
   "id": "5898fb3e-b1b4-4f22-b771-8109e033cdc3",
   "metadata": {},
   "outputs": [
    {
     "data": {
      "text/plain": [
       "[1, 3, 5, 7, 9, 11, 13, 15, 17, 19, 21, 23, 25]"
      ]
     },
     "execution_count": 4,
     "metadata": {},
     "output_type": "execute_result"
    }
   ],
   "source": [
    "odd_number()"
   ]
  },
  {
   "cell_type": "markdown",
   "id": "50d9f8bb-fa8d-41c5-b6d4-2295736da52e",
   "metadata": {},
   "source": [
    "Q2. Why *args and **kwargs is used in some functions? Create a function each for *args and **kwargs\n",
    "to demonstrate their use."
   ]
  },
  {
   "cell_type": "markdown",
   "id": "ef89a911-7bf9-4649-9b63-c3b5f3b0d30f",
   "metadata": {},
   "source": [
    "*args is used to pass a variable number of non-keyworded arguments (i.e., positional arguments) to a function. The name \"args\" is arbitrary and can be replaced with any other valid variable name, but the asterisk (*) is necessary to indicate that it is a variable-length argument.\n",
    "\n",
    "Here's an example of a function that uses *args to sum a variable number of arguments:"
   ]
  },
  {
   "cell_type": "code",
   "execution_count": 7,
   "id": "7c57ca43-c858-416a-9062-aed9d19d31d8",
   "metadata": {},
   "outputs": [],
   "source": [
    "def my_sum(*args):\n",
    "    result = 0\n",
    "    for arg in args:\n",
    "        result += arg\n",
    "    return result"
   ]
  },
  {
   "cell_type": "code",
   "execution_count": 8,
   "id": "0a257748-fc73-4daf-8257-65411da95cb0",
   "metadata": {},
   "outputs": [
    {
     "data": {
      "text/plain": [
       "6"
      ]
     },
     "execution_count": 8,
     "metadata": {},
     "output_type": "execute_result"
    }
   ],
   "source": [
    "my_sum(1, 2, 3)"
   ]
  },
  {
   "cell_type": "markdown",
   "id": "ff1dbcae-defa-45eb-86e0-f5befc42bde0",
   "metadata": {},
   "source": [
    "**kwargs, on the other hand, is used to pass a variable number of keyworded arguments (i.e., named arguments) to a function. The name \"kwargs\" is arbitrary and can be replaced with any other valid variable name, but the double asterisk (**) is necessary to indicate that it is a variable-length keyword argument.\n",
    "\n",
    "Here's an example of a function that uses **kwargs to print out the key-value pairs passed as arguments:"
   ]
  },
  {
   "cell_type": "code",
   "execution_count": 11,
   "id": "43435604-4764-4f98-acca-cce47cb39575",
   "metadata": {},
   "outputs": [],
   "source": [
    "def my_dict(**imargs):\n",
    "    for key, value in imargs.items():\n",
    "        print(key, value)"
   ]
  },
  {
   "cell_type": "code",
   "execution_count": 12,
   "id": "286e2e8a-f6a3-455b-b011-e2c19f3e2cde",
   "metadata": {},
   "outputs": [
    {
     "name": "stdout",
     "output_type": "stream",
     "text": [
      "name imran\n",
      "age 24\n",
      "city madhubani bihar\n"
     ]
    }
   ],
   "source": [
    "my_dict(name='imran', age=24, city='madhubani bihar')"
   ]
  },
  {
   "cell_type": "markdown",
   "id": "bc21ef6c-41e0-4d4b-a789-39b8326592c1",
   "metadata": {},
   "source": [
    "Q.. 4 What is an iterator in python? Name the method used to initialise the iterator object and the method\n",
    "used for iteration. Use these methods to print the first five elements of the given list [2, 4, 6, 8, 10, 12, 14,\n",
    "16, 18, 20]."
   ]
  },
  {
   "cell_type": "code",
   "execution_count": 13,
   "id": "48de31d5-f0f2-4ab0-a2f5-773e5c127181",
   "metadata": {},
   "outputs": [
    {
     "name": "stdout",
     "output_type": "stream",
     "text": [
      "2\n",
      "4\n",
      "6\n",
      "8\n",
      "10\n"
     ]
    }
   ],
   "source": [
    "l = [2, 4, 6, 8, 10, 12, 14, 16, 18, 20]\n",
    "iterator = iter(l)\n",
    "\n",
    "for i in range(5):\n",
    "    print(next(iterator))"
   ]
  },
  {
   "cell_type": "markdown",
   "id": "0022d07a-f2ce-4cfe-9fd9-9f116b5537f8",
   "metadata": {},
   "source": [
    "Q4. What is a generator function in python? Why yield keyword is used? Give an example of a generator\n",
    "function."
   ]
  },
  {
   "cell_type": "markdown",
   "id": "121b3697-6c12-4a36-8a5e-082d81018483",
   "metadata": {},
   "source": [
    "A generator function in Python is a special kind of function that returns an iterator object, which can be iterated over to produce a sequence of values. Unlike regular functions, which execute and return a value once and then exit, generator functions can be paused and resumed at any time, allowing them to produce a sequence of values on the fly, as they are requested.\n",
    "\n",
    "The yield keyword is used in generator functions to indicate where the function should be paused and the value to be returned. When the generator is resumed, execution continues from where it left off, picking up where it left off and generating the next value in the sequence.\n",
    "\n",
    "Here's an example of a generator function that generates the Fibonacci sequence:\n",
    "\n"
   ]
  },
  {
   "cell_type": "code",
   "execution_count": 14,
   "id": "7a649e57-f611-4eec-b632-984fb6518e6f",
   "metadata": {},
   "outputs": [],
   "source": [
    "def fibonacci():\n",
    "    a, b = 0, 1\n",
    "    while True:\n",
    "        yield a\n",
    "        a, b = b, a + b"
   ]
  },
  {
   "cell_type": "markdown",
   "id": "cd8320f9-16d0-4638-92be-28457213c35b",
   "metadata": {},
   "source": [
    "In this example, the fibonacci() function is a generator function that produces an infinite sequence of Fibonacci numbers. It works by initializing two variables a and b to 0 and 1, respectively, and then using a while loop to generate the next number in the sequence by adding a and b, and then updating a and b to be the last two numbers in the sequence. The yield keyword is used to pause the function and return the current value of a, and then resume execution from where it left off when the next value is requested.\n",
    "\n",
    "You can use this generator function to generate the first 10 Fibonacci numbers as follows:"
   ]
  },
  {
   "cell_type": "code",
   "execution_count": 21,
   "id": "5482d197-4443-433a-b645-7e9fa995df73",
   "metadata": {},
   "outputs": [
    {
     "name": "stdout",
     "output_type": "stream",
     "text": [
      "0\n",
      "1\n",
      "1\n",
      "2\n",
      "3\n",
      "5\n",
      "8\n",
      "13\n",
      "21\n",
      "34\n"
     ]
    }
   ],
   "source": [
    "fib = fibonacci()\n",
    "for i in range(10):\n",
    "    print(next(fib))"
   ]
  },
  {
   "cell_type": "markdown",
   "id": "b3e2c7a0-7bf8-4ba8-a845-b4d84b746c19",
   "metadata": {},
   "source": [
    "Q5. Create a generator function for prime numbers less than 1000. Use the next() method to print the\n",
    "first 20 prime numbers."
   ]
  },
  {
   "cell_type": "code",
   "execution_count": 25,
   "id": "b3c714a8-5b3f-4706-af26-65b76a3f3a60",
   "metadata": {},
   "outputs": [],
   "source": [
    "def primes():\n",
    "    yield 2\n",
    "    primes_list = [2]\n",
    "    n = 3\n",
    "    while n < 1000:\n",
    "        is_prime = True\n",
    "        for p in primes_list:\n",
    "            if p * p > n:\n",
    "                break\n",
    "            if n % p == 0:\n",
    "                is_prime = False\n",
    "                break\n",
    "        if is_prime:\n",
    "            primes_list.append(n)\n",
    "            yield n\n",
    "        n += 2"
   ]
  },
  {
   "cell_type": "markdown",
   "id": "737fadf1-b0e5-4ce9-a4c6-fc135c549072",
   "metadata": {},
   "source": [
    "In this example, the primes() function is a generator function that generates prime numbers less than 1000. It works by initializing a list primes_list with the first prime number, 2, and then using a while loop to generate the next prime number by testing odd numbers greater than 2 for primality. The yield keyword is used to pause the function and return the current prime number, and then resume execution from where it left off when the next prime number is requested.\n",
    "\n",
    "To print the first 20 prime numbers generated by this generator function, you can use the next() method as follows:"
   ]
  },
  {
   "cell_type": "code",
   "execution_count": 26,
   "id": "6f42bc8e-384c-4ddd-8142-6c6db0c29774",
   "metadata": {},
   "outputs": [
    {
     "name": "stdout",
     "output_type": "stream",
     "text": [
      "2\n",
      "3\n",
      "5\n",
      "7\n",
      "11\n",
      "13\n",
      "17\n",
      "19\n",
      "23\n",
      "29\n",
      "31\n",
      "37\n",
      "41\n",
      "43\n",
      "47\n",
      "53\n",
      "59\n",
      "61\n",
      "67\n",
      "71\n"
     ]
    }
   ],
   "source": [
    "prime_gen = primes()\n",
    "for i in range(20):\n",
    "    print(next(prime_gen))"
   ]
  },
  {
   "cell_type": "markdown",
   "id": "5b880486-b2e8-4146-960d-8e842385ec62",
   "metadata": {},
   "source": [
    "Q6. Write a python program to print the first 10 Fibonacci numbers using a while loop."
   ]
  },
  {
   "cell_type": "code",
   "execution_count": 27,
   "id": "beb9a879-835d-429a-b410-dce27d455b26",
   "metadata": {},
   "outputs": [
    {
     "name": "stdout",
     "output_type": "stream",
     "text": [
      "0\n",
      "1\n",
      "1\n",
      "2\n",
      "3\n",
      "5\n",
      "8\n",
      "13\n",
      "21\n",
      "34\n"
     ]
    }
   ],
   "source": [
    "a, b = 0, 1\n",
    "count = 0\n",
    "while count < 10:\n",
    "    print(a)\n",
    "    a, b = b, a + b\n",
    "    count += 1"
   ]
  },
  {
   "cell_type": "markdown",
   "id": "52674274-fc72-4112-8f54-df51c6afa077",
   "metadata": {},
   "source": [
    "Q7. Write a List Comprehension to iterate through the given string: ‘pwskills’.\n",
    "Expected output: ['p', 'w', 's', 'k', 'i', 'l', 'l', 's']"
   ]
  },
  {
   "cell_type": "code",
   "execution_count": 28,
   "id": "059eeaca-0afc-458e-ba16-d5dbf2710eec",
   "metadata": {},
   "outputs": [
    {
     "name": "stdout",
     "output_type": "stream",
     "text": [
      "['p', 'w', 's', 'k', 'i', 'l', 'l', 's']\n"
     ]
    }
   ],
   "source": [
    "s = 'pwskills'\n",
    "output_list = [char for char in s if char in {'p', 'w', 's', 'k', 'i', 'l'}]\n",
    "print(output_list)"
   ]
  },
  {
   "cell_type": "markdown",
   "id": "c59fd2d6-f486-402e-9270-7772fc78fd21",
   "metadata": {},
   "source": [
    "Q8. Write a python program to check whether a given number is Palindrome or not using a while loop."
   ]
  },
  {
   "cell_type": "code",
   "execution_count": 30,
   "id": "4fcc4c16-4126-467e-9913-79eb3f9ad8a2",
   "metadata": {},
   "outputs": [
    {
     "name": "stdin",
     "output_type": "stream",
     "text": [
      "Enter a number:  12321\n"
     ]
    },
    {
     "name": "stdout",
     "output_type": "stream",
     "text": [
      "12321 is a palindrome\n"
     ]
    }
   ],
   "source": [
    "number = int(input(\"Enter a number: \"))\n",
    "temp = number\n",
    "reverse_number = 0\n",
    "\n",
    "while temp > 0:\n",
    "    digit = temp % 10\n",
    "    reverse_number = reverse_number * 10 + digit\n",
    "    temp = temp // 10\n",
    "\n",
    "if number == reverse_number:\n",
    "    print(number, \"is a palindrome\")\n",
    "else:\n",
    "    print(number, \"is not a palindrome\")"
   ]
  },
  {
   "cell_type": "markdown",
   "id": "fd6bb9da-0002-4e10-9bd7-e6f37d23cb59",
   "metadata": {},
   "source": [
    "Q9. Write a code to print odd numbers from 1 to 100 using list comprehension.\n",
    "Note: Use a list comprehension to create a list from 1 to 100 and use another List comprehension to filter\n",
    "out odd numbers."
   ]
  },
  {
   "cell_type": "code",
   "execution_count": 32,
   "id": "ed37b61c-df1c-4435-a928-85d7b4a7685f",
   "metadata": {},
   "outputs": [
    {
     "name": "stdout",
     "output_type": "stream",
     "text": [
      "[1, 3, 5, 7, 9, 11, 13, 15, 17, 19, 21, 23, 25, 27, 29, 31, 33, 35, 37, 39, 41, 43, 45, 47, 49, 51, 53, 55, 57, 59, 61, 63, 65, 67, 69, 71, 73, 75, 77, 79, 81, 83, 85, 87, 89, 91, 93, 95, 97, 99]\n"
     ]
    }
   ],
   "source": [
    "odd_number = [num for num in range(1, 101) if num % 2 != 0]\n",
    "print(odd_number)"
   ]
  },
  {
   "cell_type": "code",
   "execution_count": null,
   "id": "7ffa0f1c-e9dd-42d1-8a65-aef747c24bc2",
   "metadata": {},
   "outputs": [],
   "source": []
  }
 ],
 "metadata": {
  "kernelspec": {
   "display_name": "Python 3 (ipykernel)",
   "language": "python",
   "name": "python3"
  },
  "language_info": {
   "codemirror_mode": {
    "name": "ipython",
    "version": 3
   },
   "file_extension": ".py",
   "mimetype": "text/x-python",
   "name": "python",
   "nbconvert_exporter": "python",
   "pygments_lexer": "ipython3",
   "version": "3.10.8"
  }
 },
 "nbformat": 4,
 "nbformat_minor": 5
}
