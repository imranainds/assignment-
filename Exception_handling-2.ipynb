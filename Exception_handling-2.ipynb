{
 "cells": [
  {
   "cell_type": "markdown",
   "metadata": {},
   "source": [
    "Q1. Explain why we have to use the Exception class while creating a Custom Exception.\n",
    "\n",
    "Note: Here Exception class refers to the base class for all the exceptions.\n",
    "\n",
    "Q2. Write a python program to print Python Exception Hierarchy.\n",
    "\n",
    "Q3. What errors are defined in the ArithmeticError class? Explain any two with an example.\n",
    "\n",
    "Q4. Why LookupError class is used? Explain with an example KeyError and IndexError.\n",
    "\n",
    "Q5. Explain ImportError. What is ModuleNotFoundError?\n",
    "\n",
    "Q6. List down some best practices for exception handling in python.\n"
   ]
  },
  {
   "cell_type": "markdown",
   "metadata": {},
   "source": [
    "Q1. Explain why we have to use the Exception class while creating a Custom Exception:\n"
   ]
  },
  {
   "cell_type": "markdown",
   "metadata": {},
   "source": [
    "\n",
    "When creating custom exceptions in Python, it is essential to inherit from the Exception class (or any of its subclasses) because exceptions in Python are classes. By inheriting from the Exception class, you are essentially creating a new type of exception specific to your application. This allows you to handle this particular type of exception differently from other exceptions. It also ensures that your custom exception can be caught in an except block that catches exceptions of the base Exception class, making your code more organized and readable."
   ]
  },
  {
   "cell_type": "markdown",
   "metadata": {},
   "source": [
    "Q2. Write a Python program to print Python Exception Hierarchy:"
   ]
  },
  {
   "cell_type": "code",
   "execution_count": 1,
   "metadata": {},
   "outputs": [
    {
     "name": "stdout",
     "output_type": "stream",
     "text": [
      "BaseException\n",
      "  BaseExceptionGroup\n",
      "    ExceptionGroup\n",
      "  Exception\n",
      "    ArithmeticError\n",
      "      FloatingPointError\n",
      "      OverflowError\n",
      "      ZeroDivisionError\n",
      "        DivisionByZero\n",
      "        DivisionUndefined\n",
      "      DecimalException\n",
      "        Clamped\n",
      "        Rounded\n",
      "          Underflow\n",
      "          Overflow\n",
      "        Inexact\n",
      "          Underflow\n",
      "          Overflow\n",
      "        Subnormal\n",
      "          Underflow\n",
      "        DivisionByZero\n",
      "        FloatOperation\n",
      "        InvalidOperation\n",
      "          ConversionSyntax\n",
      "          DivisionImpossible\n",
      "          DivisionUndefined\n",
      "          InvalidContext\n",
      "    AssertionError\n",
      "    AttributeError\n",
      "      FrozenInstanceError\n",
      "    BufferError\n",
      "    EOFError\n",
      "      IncompleteReadError\n",
      "    ImportError\n",
      "      ModuleNotFoundError\n",
      "        PackageNotFoundError\n",
      "      ZipImportError\n",
      "    LookupError\n",
      "      IndexError\n",
      "      KeyError\n",
      "        NoSuchKernel\n",
      "        UnknownBackend\n",
      "      CodecRegistryError\n",
      "    MemoryError\n",
      "    NameError\n",
      "      UnboundLocalError\n",
      "    OSError\n",
      "      BlockingIOError\n",
      "      ChildProcessError\n",
      "      ConnectionError\n",
      "        BrokenPipeError\n",
      "        ConnectionAbortedError\n",
      "        ConnectionRefusedError\n",
      "        ConnectionResetError\n",
      "          RemoteDisconnected\n",
      "      FileExistsError\n",
      "      FileNotFoundError\n",
      "      InterruptedError\n",
      "        InterruptedSystemCall\n",
      "      IsADirectoryError\n",
      "      NotADirectoryError\n",
      "      PermissionError\n",
      "      ProcessLookupError\n",
      "      TimeoutError\n",
      "      UnsupportedOperation\n",
      "      herror\n",
      "      gaierror\n",
      "      SSLError\n",
      "        SSLCertVerificationError\n",
      "        SSLZeroReturnError\n",
      "        SSLWantWriteError\n",
      "        SSLWantReadError\n",
      "        SSLSyscallError\n",
      "        SSLEOFError\n",
      "      Error\n",
      "        SameFileError\n",
      "      SpecialFileError\n",
      "      ExecError\n",
      "      ReadError\n",
      "      URLError\n",
      "        HTTPError\n",
      "        ContentTooShortError\n",
      "      BadGzipFile\n",
      "    ReferenceError\n",
      "    RuntimeError\n",
      "      NotImplementedError\n",
      "        ZMQVersionError\n",
      "        StdinNotImplementedError\n",
      "      RecursionError\n",
      "      _DeadlockError\n",
      "      BrokenBarrierError\n",
      "      BrokenExecutor\n",
      "        BrokenThreadPool\n",
      "      SendfileNotAvailableError\n",
      "      BrokenBarrierError\n",
      "      VariableError\n",
      "    StopAsyncIteration\n",
      "    StopIteration\n",
      "    SyntaxError\n",
      "      IndentationError\n",
      "        TabError\n",
      "    SystemError\n",
      "      CodecRegistryError\n",
      "    TypeError\n",
      "      FloatOperation\n",
      "      MultipartConversionError\n",
      "    ValueError\n",
      "      UnicodeError\n",
      "        UnicodeDecodeError\n",
      "        UnicodeEncodeError\n",
      "        UnicodeTranslateError\n",
      "      UnsupportedOperation\n",
      "      JSONDecodeError\n",
      "      SSLCertVerificationError\n",
      "      Error\n",
      "      AddressValueError\n",
      "      NetmaskValueError\n",
      "      UnsupportedDigestmodError\n",
      "      IllegalMonthError\n",
      "      IllegalWeekdayError\n",
      "      ParserError\n",
      "      MessageDefect\n",
      "        NoBoundaryInMultipartDefect\n",
      "        StartBoundaryNotFoundDefect\n",
      "        CloseBoundaryNotFoundDefect\n",
      "        FirstHeaderLineIsContinuationDefect\n",
      "        MisplacedEnvelopeHeaderDefect\n",
      "        MissingHeaderBodySeparatorDefect\n",
      "        MultipartInvariantViolationDefect\n",
      "        InvalidMultipartContentTransferEncodingDefect\n",
      "        UndecodableBytesDefect\n",
      "        InvalidBase64PaddingDefect\n",
      "        InvalidBase64CharactersDefect\n",
      "        InvalidBase64LengthDefect\n",
      "        HeaderDefect\n",
      "          InvalidHeaderDefect\n",
      "          HeaderMissingRequiredValue\n",
      "          NonPrintableDefect\n",
      "          ObsoleteHeaderDefect\n",
      "          NonASCIILocalPartDefect\n",
      "          InvalidDateDefect\n",
      "      ClassNotFound\n",
      "      ClipboardEmpty\n",
      "      MacroToEdit\n",
      "      InvalidVersion\n",
      "    Warning\n",
      "      BytesWarning\n",
      "      DeprecationWarning\n",
      "        ProvisionalWarning\n",
      "      EncodingWarning\n",
      "      FutureWarning\n",
      "        ProvisionalCompleterWarning\n",
      "      ImportWarning\n",
      "      PendingDeprecationWarning\n",
      "      ResourceWarning\n",
      "      RuntimeWarning\n",
      "        ProactorSelectorThreadWarning\n",
      "        UnknownTimezoneWarning\n",
      "      SyntaxWarning\n",
      "      UnicodeWarning\n",
      "      UserWarning\n",
      "        GetPassWarning\n",
      "        FormatterWarning\n",
      "      DeprecatedTzFormatWarning\n",
      "    ExceptionGroup\n",
      "    _OptionError\n",
      "    _Error\n",
      "    error\n",
      "    Error\n",
      "    SubprocessError\n",
      "      CalledProcessError\n",
      "      TimeoutExpired\n",
      "    ZMQBaseError\n",
      "      ZMQError\n",
      "        ContextTerminated\n",
      "        Again\n",
      "        InterruptedSystemCall\n",
      "      ZMQBindError\n",
      "      NotDone\n",
      "    Error\n",
      "    error\n",
      "    PickleError\n",
      "      PicklingError\n",
      "      UnpicklingError\n",
      "    _Stop\n",
      "    TokenError\n",
      "    StopTokenizing\n",
      "    Error\n",
      "      CancelledError\n",
      "      InvalidStateError\n",
      "    _GiveupOnSendfile\n",
      "    Incomplete\n",
      "    ClassFoundException\n",
      "    EndOfBlock\n",
      "    InvalidStateError\n",
      "    LimitOverrunError\n",
      "    QueueEmpty\n",
      "    QueueFull\n",
      "    error\n",
      "    LZMAError\n",
      "    RegistryError\n",
      "    _GiveupOnFastCopy\n",
      "    TraitError\n",
      "    Empty\n",
      "    Full\n",
      "    ArgumentError\n",
      "    COMError\n",
      "    ReturnValueIgnoredError\n",
      "    ArgumentError\n",
      "    ArgumentTypeError\n",
      "    ConfigError\n",
      "      ConfigLoaderError\n",
      "        ArgumentError\n",
      "      ConfigFileNotFound\n",
      "    ConfigurableError\n",
      "      MultipleInstanceError\n",
      "    ApplicationError\n",
      "    InvalidPortNumber\n",
      "    NoIPAddresses\n",
      "    Error\n",
      "    BadZipFile\n",
      "    LargeZipFile\n",
      "    MessageError\n",
      "      MessageParseError\n",
      "        HeaderParseError\n",
      "        BoundaryError\n",
      "      MultipartConversionError\n",
      "      CharsetError\n",
      "    DuplicateKernelError\n",
      "    ErrorDuringImport\n",
      "    NotOneValueFound\n",
      "    KnownIssue\n",
      "    VerifierFailure\n",
      "    CannotEval\n",
      "    OptionError\n",
      "    BdbQuit\n",
      "    Restart\n",
      "    FindCmdError\n",
      "    HomeDirError\n",
      "    ProfileDirError\n",
      "    IPythonCoreError\n",
      "      TryNext\n",
      "      UsageError\n",
      "      StdinNotImplementedError\n",
      "    InputRejected\n",
      "    GetoptError\n",
      "    ErrorToken\n",
      "    PrefilterError\n",
      "    AliasError\n",
      "      InvalidAliasError\n",
      "    Error\n",
      "      InterfaceError\n",
      "      DatabaseError\n",
      "        InternalError\n",
      "        OperationalError\n",
      "        ProgrammingError\n",
      "        IntegrityError\n",
      "        DataError\n",
      "        NotSupportedError\n",
      "    Warning\n",
      "    SpaceInInput\n",
      "    DOMException\n",
      "      IndexSizeErr\n",
      "      DomstringSizeErr\n",
      "      HierarchyRequestErr\n",
      "      WrongDocumentErr\n",
      "      InvalidCharacterErr\n",
      "      NoDataAllowedErr\n",
      "      NoModificationAllowedErr\n",
      "      NotFoundErr\n",
      "      NotSupportedErr\n",
      "      InuseAttributeErr\n",
      "      InvalidStateErr\n",
      "      SyntaxErr\n",
      "      InvalidModificationErr\n",
      "      NamespaceErr\n",
      "      InvalidAccessErr\n",
      "      ValidationErr\n",
      "    ValidationError\n",
      "    EditReadOnlyBuffer\n",
      "    _Retry\n",
      "    InvalidLayoutError\n",
      "    HeightIsUnknownError\n",
      "    GuardRejection\n",
      "    ParserSyntaxError\n",
      "    InternalParseError\n",
      "    _PositionUpdatingFinished\n",
      "    SimpleGetItemNotFound\n",
      "    UncaughtAttributeError\n",
      "    HasNoContext\n",
      "    ParamIssue\n",
      "    _JediError\n",
      "      InternalError\n",
      "      WrongVersion\n",
      "      RefactoringError\n",
      "    OnErrorLeaf\n",
      "    InvalidPythonEnvironment\n",
      "    HTTPException\n",
      "      NotConnected\n",
      "      InvalidURL\n",
      "      UnknownProtocol\n",
      "      UnknownTransferEncoding\n",
      "      UnimplementedFileMode\n",
      "      IncompleteRead\n",
      "      ImproperConnectionState\n",
      "        CannotSendRequest\n",
      "        CannotSendHeader\n",
      "        ResponseNotReady\n",
      "      BadStatusLine\n",
      "        RemoteDisconnected\n",
      "      LineTooLong\n",
      "    InteractivelyDefined\n",
      "    KillEmbedded\n",
      "    Error\n",
      "      NoSuchProcess\n",
      "        ZombieProcess\n",
      "      AccessDenied\n",
      "      TimeoutExpired\n",
      "    Error\n",
      "    TimeoutExpired\n",
      "    TimeoutAbandoned\n",
      "    KeyReuseError\n",
      "    UnknownKeyError\n",
      "    LeakedCallbackError\n",
      "    BadYieldError\n",
      "    ReturnValueIgnoredError\n",
      "    Return\n",
      "    QueueEmpty\n",
      "    QueueFull\n",
      "    DebuggerInitializationError\n",
      "    ExpatError\n",
      "    Error\n",
      "      ProtocolError\n",
      "      ResponseError\n",
      "      Fault\n",
      "    _Error\n",
      "    UnableToResolveVariableException\n",
      "    InvalidTypeInArgsException\n",
      "  GeneratorExit\n",
      "  KeyboardInterrupt\n",
      "  SystemExit\n",
      "  CancelledError\n"
     ]
    }
   ],
   "source": [
    "def print_exception_hierarchy(exception_class, indent=0):\n",
    "    print(\"  \" * indent + exception_class.__name__)\n",
    "    for subclass in exception_class.__subclasses__():\n",
    "        print_exception_hierarchy(subclass, indent + 1)\n",
    "\n",
    "print_exception_hierarchy(BaseException)\n"
   ]
  },
  {
   "cell_type": "markdown",
   "metadata": {},
   "source": [
    "Q3. What errors are defined in the ArithmeticError class? Explain any two with an example:"
   ]
  },
  {
   "cell_type": "markdown",
   "metadata": {},
   "source": [
    "ArithmeticError is the base class for arithmetic errors. Two common errors derived from ArithmeticError are ZeroDivisionError and OverflowError.\n",
    "\n",
    "ZeroDivisionError:\n",
    "\n",
    "This error occurs when you try to divide a number by zero."
   ]
  },
  {
   "cell_type": "code",
   "execution_count": 2,
   "metadata": {},
   "outputs": [
    {
     "name": "stdout",
     "output_type": "stream",
     "text": [
      "Error: Division by zero!\n"
     ]
    }
   ],
   "source": [
    "try:\n",
    "    result = 10 / 0\n",
    "except ZeroDivisionError:\n",
    "    print(\"Error: Division by zero!\")\n"
   ]
  },
  {
   "cell_type": "markdown",
   "metadata": {},
   "source": [
    "OverflowError:\n",
    "\n",
    "This error occurs when the result of an arithmetic operation is too large to be represented within the available memory."
   ]
  },
  {
   "cell_type": "code",
   "execution_count": 3,
   "metadata": {},
   "outputs": [
    {
     "name": "stdout",
     "output_type": "stream",
     "text": [
      "Error: Result too large to represent!\n"
     ]
    }
   ],
   "source": [
    "import math\n",
    "try:\n",
    "    result = math.exp(1000)\n",
    "except OverflowError:\n",
    "    print(\"Error: Result too large to represent!\")\n"
   ]
  },
  {
   "cell_type": "markdown",
   "metadata": {},
   "source": [
    "Q4. Why LookupError class is used? Explain with an example KeyError and IndexError:"
   ]
  },
  {
   "cell_type": "markdown",
   "metadata": {},
   "source": [
    "LookupError is the base class for errors that occur when a key or index used on a mapping or sequence is invalid.\n",
    "\n",
    "KeyError:\n",
    "\n",
    "This error occurs when you try to access a dictionary with a key that does not exist."
   ]
  },
  {
   "cell_type": "code",
   "execution_count": 4,
   "metadata": {},
   "outputs": [
    {
     "name": "stdout",
     "output_type": "stream",
     "text": [
      "Error: Key not found in dictionary!\n"
     ]
    }
   ],
   "source": [
    "my_dict = {'name': 'John', 'age': 30}\n",
    "try:\n",
    "    value = my_dict['gender']\n",
    "except KeyError:\n",
    "    print(\"Error: Key not found in dictionary!\")\n"
   ]
  },
  {
   "cell_type": "markdown",
   "metadata": {},
   "source": [
    "IndexError:\n",
    "\n",
    "This error occurs when you try to access a list or tuple with an index that is out of range."
   ]
  },
  {
   "cell_type": "code",
   "execution_count": 5,
   "metadata": {},
   "outputs": [
    {
     "name": "stdout",
     "output_type": "stream",
     "text": [
      "Error: Index out of range!\n"
     ]
    }
   ],
   "source": [
    "my_list = [1, 2, 3]\n",
    "try:\n",
    "    value = my_list[5]\n",
    "except IndexError:\n",
    "    print(\"Error: Index out of range!\")\n"
   ]
  },
  {
   "cell_type": "markdown",
   "metadata": {},
   "source": [
    "Q5. Explain ImportError. What is ModuleNotFoundError:"
   ]
  },
  {
   "cell_type": "markdown",
   "metadata": {},
   "source": [
    "ImportError:\n",
    "\n",
    "ImportError is raised when an imported module is not found."
   ]
  },
  {
   "cell_type": "code",
   "execution_count": 6,
   "metadata": {},
   "outputs": [
    {
     "name": "stdout",
     "output_type": "stream",
     "text": [
      "Error: Module not found!\n"
     ]
    }
   ],
   "source": [
    "try:\n",
    "    import non_existent_module\n",
    "except ImportError:\n",
    "    print(\"Error: Module not found!\")\n"
   ]
  },
  {
   "cell_type": "markdown",
   "metadata": {},
   "source": [
    "ModuleNotFoundError:\n",
    "\n",
    "ModuleNotFoundError is a subclass of ImportError and is raised when a module could not be found."
   ]
  },
  {
   "cell_type": "code",
   "execution_count": 7,
   "metadata": {},
   "outputs": [
    {
     "name": "stdout",
     "output_type": "stream",
     "text": [
      "Error: Module not found!\n"
     ]
    }
   ],
   "source": [
    "try:\n",
    "    import non_existent_module\n",
    "except ModuleNotFoundError:\n",
    "    print(\"Error: Module not found!\")\n"
   ]
  },
  {
   "cell_type": "markdown",
   "metadata": {},
   "source": [
    "Q6. Best practices for exception handling in Python "
   ]
  },
  {
   "cell_type": "markdown",
   "metadata": {},
   "source": [
    "1 Use specific exceptions: Instead of using the general Exception class, use specific exception classes that provide more information about the error.\n",
    "\n",
    "2 Use custom exceptions: When the built-in exceptions do not cover your specific use case, create custom exceptions by subclassing the Exception class.\n",
    "\n",
    "3 Use exception chaining: When catching an exception, if you want to propagate the original exception information, use exception chaining by re-raising the caught exception.\n",
    "\n",
    "4 Use finally blocks: The finally block is always executed, regardless of whether an exception was raised or not. This is useful for cleaning up resources, such as closing files or network connections.\n",
    "\n",
    "5 Use context managers: Context managers allow you to define methods that are automatically called when entering and exiting a block of code. This is useful for managing resources that need to be acquired and released, such as file handles or database connections.\n",
    "\n",
    "6 Handle exceptions in a specific order: When catching exceptions, handle the most specific exceptions first, and then handle more general exceptions later. This ensures that the most appropriate error message is displayed to the user.\n",
    "\n",
    "7 Log exceptions: When catching exceptions, log the exception details, including the exception type, message, and traceback. This helps in diagnosing and resolving issues.\n",
    "\n",
    "8 Use exception specifications: In Python 3, you can use exception specifications to indicate which exceptions a function may raise. This is useful for providing more accurate error messages to the user.\n",
    "\n",
    "9 Avoid using bare except clauses: Bare except clauses can catch exceptions that you did not intend to catch, such as SystemExit or KeyboardInterrupt. Instead, specify the exceptions you want to catch.\n",
    "\n",
    "10 Avoid using except Exception as e clauses: This is a common anti-pattern because it can catch exceptions that you did not intend to catch, such as SystemExit or KeyboardInterrupt. Instead, specify the exceptions you want to catch.\n",
    "\n",
    "By following these best practices, you can write robust and maintainable Python code that handles exceptions effectively."
   ]
  },
  {
   "cell_type": "markdown",
   "metadata": {},
   "source": []
  }
 ],
 "metadata": {
  "kernelspec": {
   "display_name": "Python 3",
   "language": "python",
   "name": "python3"
  },
  "language_info": {
   "codemirror_mode": {
    "name": "ipython",
    "version": 3
   },
   "file_extension": ".py",
   "mimetype": "text/x-python",
   "name": "python",
   "nbconvert_exporter": "python",
   "pygments_lexer": "ipython3",
   "version": "3.11.6"
  }
 },
 "nbformat": 4,
 "nbformat_minor": 2
}
