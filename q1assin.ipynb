{
 "cells": [
  {
   "cell_type": "markdown",
   "metadata": {},
   "source": [
    "Abstraction in OOPs is a mechanism that simplifies complex systems by providing a more simplified and general view of the system. It allows us to hide the details of an object and only expose the essential features. This approach makes the code more readable, maintainable, and reusable.\n",
    "\n",
    "For example, consider a car. Instead of focusing on the internal mechanisms of the engine, transmission, and brakes, we can abstract the car into a single \"Car\" class. This class would have methods like \"drive()\", \"stop()\", and \"change_gear()\", which represent the actions that can be performed on a car."
   ]
  },
  {
   "cell_type": "code",
   "execution_count": 3,
   "metadata": {},
   "outputs": [
    {
     "name": "stdout",
     "output_type": "stream",
     "text": [
      "60\n",
      "0\n",
      "1\n"
     ]
    }
   ],
   "source": [
    "#python\n",
    "class Car:\n",
    "    def __init__(self, make, model, year):\n",
    "        self.make = make\n",
    "        self.model = model\n",
    "        self.year = year\n",
    "        self.speed = 0\n",
    "\n",
    "    def drive(self):\n",
    "        self.speed = 60\n",
    "\n",
    "    def stop(self):\n",
    "        self.speed = 0\n",
    "\n",
    "    def change_gear(self, gear):\n",
    "        self.current_gear = gear\n",
    "\n",
    "# Example usage\n",
    "my_car = Car('Toyota', 'Camry', 2020)\n",
    "my_car.drive()\n",
    "print(my_car.speed) # Output: 60\n",
    "my_car.stop()\n",
    "print(my_car.speed) # Output: 0\n",
    "my_car.change_gear(1)\n",
    "print(my_car.current_gear) # Output: 1"
   ]
  },
  {
   "cell_type": "code",
   "execution_count": null,
   "metadata": {},
   "outputs": [],
   "source": []
  }
 ],
 "metadata": {
  "kernelspec": {
   "display_name": "Python 3",
   "language": "python",
   "name": "python3"
  },
  "language_info": {
   "codemirror_mode": {
    "name": "ipython",
    "version": 3
   },
   "file_extension": ".py",
   "mimetype": "text/x-python",
   "name": "python",
   "nbconvert_exporter": "python",
   "pygments_lexer": "ipython3",
   "version": "3.11.1"
  }
 },
 "nbformat": 4,
 "nbformat_minor": 2
}
