{
 "cells": [
  {
   "cell_type": "markdown",
   "metadata": {},
   "source": [
    "Q1. What is an Exception in python? Write the difference between Exceptions and Syntax errors.\n",
    "\n",
    "Q2. What happens when an exception is not handled? Explain with an example.\n",
    "\n",
    "Q3. Which Python statements are used to catch and handle exceptions? Explain with an example.\n",
    "\n",
    "Q4. Explain with an example:\n",
    "a. try and else\n",
    "b. finally\n",
    "c. raise\n",
    "\n",
    "Q5. What are Custom Exceptions in python? Why do we need Custom Exceptions? Explain with an example.\n",
    "\n",
    "Q6. Create a custom exception class. Use this class to handle an exception."
   ]
  },
  {
   "cell_type": "markdown",
   "metadata": {},
   "source": [
    "\n",
    "An exception in Python is an event that occurs during the execution of a program that disrupts the normal flow of the program. Exceptions can be caused by a variety of factors, such as:\n",
    "\n",
    "User input errors\n",
    "File not found errors\n",
    "Network errors\n",
    "Divide-by-zero errors\n",
    "Out-of-range errors\n",
    "When an exception occurs, the Python interpreter raises an exception object. This object contains information about the exception, such as the type of exception and the line of code where the exception occurred.\n",
    "\n",
    "The programmer can then choose to handle the exception or not. If the exception is not handled, the Python interpreter will terminate the program.\n",
    "\n",
    "Here is an example of an exception:"
   ]
  },
  {
   "cell_type": "code",
   "execution_count": 1,
   "metadata": {},
   "outputs": [
    {
     "name": "stdout",
     "output_type": "stream",
     "text": [
      "Cannot divide by zero!\n"
     ]
    }
   ],
   "source": [
    "try:\n",
    "    # Code that may raise an exception\n",
    "    print(1 / 0)\n",
    "except ZeroDivisionError:\n",
    "    # Handle the exception\n",
    "    print(\"Cannot divide by zero!\")\n"
   ]
  },
  {
   "cell_type": "markdown",
   "metadata": {},
   "source": [
    "In this example, the code inside the try block may raise a ZeroDivisionError exception. If this happens, the Python interpreter will jump to the except block and execute the code inside.\n",
    "\n",
    "Here is an example of a syntax error:"
   ]
  },
  {
   "cell_type": "code",
   "execution_count": 2,
   "metadata": {},
   "outputs": [
    {
     "name": "stdout",
     "output_type": "stream",
     "text": [
      "This is a syntax error!\n"
     ]
    }
   ],
   "source": [
    "print(\"This is a syntax error!\")\n"
   ]
  },
  {
   "cell_type": "markdown",
   "metadata": {},
   "source": [
    "This code will not run because it contains a syntax error. The Python interpreter will detect the error during the compilation phase and raise a SyntaxError exception.\n",
    "\n",
    "Differences between exceptions and syntax errors:\n",
    "\n",
    "Syntax errors: Syntax errors are errors in the structure of a Python program. They are detected by the Python interpreter during the compilation phase and prevent the program from running.\n",
    "Exceptions: Exceptions are events that occur during the execution of a Python program that disrupt the normal flow of the program. Exceptions can be caused by a variety of factors, such as user input errors, file not found errors, and network errors.\n",
    "Handling exceptions:\n",
    "\n",
    "It is important to handle exceptions in your Python code. This will help to prevent your program from crashing and improve the overall robustness of your code.\n",
    "\n",
    "There are two ways to handle exceptions in Python:\n",
    "\n",
    "try/except: The try/except block allows you to catch and handle exceptions. If an exception occurs inside the try block, the Python interpreter will jump to the except block and execute the code inside.\n",
    "raise: The raise keyword allows you to raise an exception explicitly. This can be useful for validating user input or handling unexpected events."
   ]
  },
  {
   "cell_type": "markdown",
   "metadata": {},
   "source": [
    "Q2. What happens when an exception is not handled? Explain with an example."
   ]
  },
  {
   "cell_type": "markdown",
   "metadata": {},
   "source": [
    "If an exception is not handled, the program will crash and display an error message. For example, the following code will crash if the user enters a non-numeric value for the divisor variable:"
   ]
  },
  {
   "cell_type": "code",
   "execution_count": 3,
   "metadata": {},
   "outputs": [],
   "source": [
    "def divide(numerator, divisor):\n",
    "  \"\"\"Divides two numbers and returns the result.\"\"\"\n",
    "  return numerator / divisor\n",
    "\n",
    "# Get the user's input.\n",
    "numerator = int(input(\"Enter the numerator: \"))\n",
    "divisor = int(input(\"Enter the divisor: \"))\n",
    "\n",
    "# Divide the numbers and print the result.\n",
    "result = divide(numerator, divisor)\n",
    "print(\"The result is:\", result)\n"
   ]
  },
  {
   "cell_type": "markdown",
   "metadata": {},
   "source": [
    "If the user enters 0 for the divisor variable, the program will crash and display the following error message:\n",
    "\n",
    "ZeroDivisionError: division by zero\n",
    "\n",
    "To avoid this, we can handle the exception using a try and except block:"
   ]
  },
  {
   "cell_type": "code",
   "execution_count": null,
   "metadata": {},
   "outputs": [],
   "source": [
    "def divide(numerator, divisor):\n",
    "  \"\"\"Divides two numbers and returns the result.\"\"\"\n",
    "  return numerator / divisor\n",
    "\n",
    "# Get the user's input.\n",
    "numerator = int(input(\"Enter the numerator: \"))\n",
    "divisor = int(input(\"Enter the divisor: \"))\n",
    "\n",
    "# Try to divide the numbers.\n",
    "try:\n",
    "  result = divide(numerator, divisor)\n",
    "except ZeroDivisionError:\n",
    "  print(\"Cannot divide by zero.\")\n",
    "else:\n",
    "  # Print the result if there was no error.\n",
    "  print(\"The result is:\", result)\n"
   ]
  },
  {
   "cell_type": "markdown",
   "metadata": {},
   "source": [
    "If the user enters 0 for the divisor variable, the program will print the message \"Cannot divide by zero.\" and continue running."
   ]
  },
  {
   "cell_type": "markdown",
   "metadata": {},
   "source": [
    "Q3. Which Python statements are used to catch and handle exceptions? Explain with an example."
   ]
  },
  {
   "cell_type": "markdown",
   "metadata": {},
   "source": [
    "\n",
    "The Python statements used to catch and handle exceptions are the try and except statements. The try statement is used to enclose a block of code that may raise an exception. The except statement is used to catch and handle any exceptions that are raised in the try block.\n",
    "\n",
    "Here is an example of how to use the try and except statements to catch and handle an exception:"
   ]
  },
  {
   "cell_type": "code",
   "execution_count": null,
   "metadata": {},
   "outputs": [],
   "source": [
    "try:\n",
    "    # Code that may raise an exception\n",
    "    result = 10 / 0\n",
    "except ZeroDivisionError:\n",
    "    # Handle the ZeroDivisionError exception\n",
    "    print(\"Cannot divide by zero\")\n"
   ]
  },
  {
   "cell_type": "markdown",
   "metadata": {},
   "source": [
    "If the code in the try block raises a ZeroDivisionError exception, the program will print the message \"Cannot divide by zero.\" and continue running.\n",
    "\n",
    "It is also possible to handle multiple types of exceptions in a single except block by specifying a tuple of exception types. For example, the following code will handle both ZeroDivisionError and ValueError exceptions:"
   ]
  },
  {
   "cell_type": "code",
   "execution_count": null,
   "metadata": {},
   "outputs": [],
   "source": [
    "try:\n",
    "    # Code that may raise an exception\n",
    "    result = 10 / 0\n",
    "    my_list = [1, 2, 3]\n",
    "    print(my_list[3])\n",
    "except ZeroDivisionError:\n",
    "    # Handle the ZeroDivisionError exception\n",
    "    print(\"Cannot divide by zero\")\n",
    "except IndexError:\n",
    "    # Handle the IndexError exception\n",
    "    print(\"Index out of bounds\")\n"
   ]
  },
  {
   "cell_type": "code",
   "execution_count": null,
   "metadata": {},
   "outputs": [],
   "source": [
    "try:\n",
    "    # Code that may raise an exception\n",
    "    result = 10 / 2\n",
    "except ZeroDivisionError:\n",
    "    # Handle the ZeroDivisionError exception\n",
    "    print(\"Cannot divide by zero\")\n",
    "else:\n",
    "    # Print the result of the division operation\n",
    "    print(result)\n"
   ]
  },
  {
   "cell_type": "markdown",
   "metadata": {},
   "source": [
    "Q4. Explain with an example:\n",
    "\n",
    "a. try and else\n",
    "\n",
    "b. finally\n",
    "\n",
    "c. raise"
   ]
  },
  {
   "cell_type": "markdown",
   "metadata": {},
   "source": [
    "a. try and else\n",
    "\n",
    "The try and else statements in Python are used to handle exceptions. The try block contains the code that you want to test for errors. If an exception occurs, the else block will be executed.\n",
    "\n",
    "Here is an example:"
   ]
  },
  {
   "cell_type": "code",
   "execution_count": null,
   "metadata": {},
   "outputs": [],
   "source": [
    "try:\n",
    "    print(1 / 0)\n",
    "except:\n",
    "    print(\"An exception occurred.\")\n",
    "else:\n",
    "    print(\"No exception occurred.\")\n"
   ]
  },
  {
   "cell_type": "markdown",
   "metadata": {},
   "source": [
    "In this example, the try block will raise a ZeroDivisionError exception, so the else block will not be executed.\n",
    "\n",
    "If the try block does not raise an exception, the else block will be executed. Here is an example:"
   ]
  },
  {
   "cell_type": "code",
   "execution_count": null,
   "metadata": {},
   "outputs": [],
   "source": [
    "try:\n",
    "    print(1 / 1)\n",
    "except:\n",
    "    print(\"An exception occurred.\")\n",
    "else:\n",
    "    print(\"No exception occurred.\")\n"
   ]
  },
  {
   "cell_type": "markdown",
   "metadata": {},
   "source": [
    "b. finally\n",
    "\n",
    "The finally statement in Python is used to execute code regardless of whether or not an exception is raised. The finally block is always executed, even if an exception is raised in the try block or handled in the except block.\n",
    "\n",
    "Here is an example:"
   ]
  },
  {
   "cell_type": "code",
   "execution_count": null,
   "metadata": {},
   "outputs": [],
   "source": [
    "try:\n",
    "    print(1 / 0)\n",
    "except:\n",
    "    print(\"An exception occurred.\")\n",
    "finally:\n",
    "    print(\"The finally block is always executed.\")\n"
   ]
  },
  {
   "cell_type": "markdown",
   "metadata": {},
   "source": [
    "The finally block can be used to clean up resources, such as closing files or database connections."
   ]
  },
  {
   "cell_type": "markdown",
   "metadata": {},
   "source": [
    "c. raise\n",
    "\n",
    "The raise statement in Python is used to raise an exception. This can be useful for handling errors gracefully or for controlling the flow of your program.\n",
    "\n",
    "Here is an example:"
   ]
  },
  {
   "cell_type": "code",
   "execution_count": null,
   "metadata": {},
   "outputs": [],
   "source": [
    "def divide_by_zero(number):\n",
    "    if number == 0:\n",
    "        raise ValueError(\"Cannot divide by zero.\")\n",
    "    return number / 0\n",
    "\n",
    "try:\n",
    "    divide_by_zero(0)\n",
    "except ValueError as error:\n",
    "    print(error)\n",
    "else:\n",
    "    print(\"No exception occurred.\")\n"
   ]
  },
  {
   "cell_type": "markdown",
   "metadata": {},
   "source": [
    "In this example, the divide_by_zero() function raises a ValueError exception if the number passed to it is zero. The try block will catch the exception and print the error message.\n",
    "\n",
    "You can also use the raise statement to raise a custom exception class. Here is an example:"
   ]
  },
  {
   "cell_type": "code",
   "execution_count": null,
   "metadata": {},
   "outputs": [],
   "source": [
    "class MyCustomException(Exception):\n",
    "    pass\n",
    "\n",
    "def do_something_that_might_fail():\n",
    "    if some_condition:\n",
    "        raise MyCustomException(\"Something went wrong.\")\n",
    "\n",
    "try:\n",
    "    do_something_that_might_fail()\n",
    "except MyCustomException as error:\n",
    "    print(error)\n",
    "else:\n",
    "    print(\"No exception occurred.\")\n"
   ]
  },
  {
   "cell_type": "markdown",
   "metadata": {},
   "source": [
    "In this example, the do_something_that_might_fail() function raises a MyCustomException exception if some condition is met. The try block will catch the exception and print the error message.\n",
    "\n",
    "I hope this explanation is helpful. Please let me know if you have any other questi"
   ]
  },
  {
   "cell_type": "markdown",
   "metadata": {},
   "source": [
    "Q5. What are Custom Exceptions in python? Why do we need Custom Exceptions? Explain with an example."
   ]
  },
  {
   "cell_type": "markdown",
   "metadata": {},
   "source": [
    "Custom exceptions in Python are classes that inherit from the built-in Exception class. They are used to represent specific errors that may occur in a program. Custom exceptions are useful because they allow you to provide more specific information about the error to the user, and to handle different types of errors in different ways.\n",
    "\n",
    "Here is an example of a custom exception:"
   ]
  },
  {
   "cell_type": "code",
   "execution_count": null,
   "metadata": {},
   "outputs": [],
   "source": [
    "class NegativeAgeError(Exception):\n",
    "    def __init__(self, age):\n",
    "        self.age = age\n",
    "        super().__init__(f\"Age cannot be negative: {age}\")\n",
    "\n",
    "def get_age(user_input):\n",
    "    age = int(user_input)\n",
    "    if age < 0:\n",
    "        raise NegativeAgeError(age)\n",
    "    return age\n",
    "\n",
    "if __name__ == \"__main__\":\n",
    "    try:\n",
    "        age = get_age(input(\"Enter your age: \"))\n",
    "        print(f\"Your age is {age}.\")\n",
    "    except NegativeAgeError as e:\n",
    "        print(e)\n"
   ]
  },
  {
   "cell_type": "markdown",
   "metadata": {},
   "source": [
    "In this example, we define a custom exception called NegativeAgeError. This exception is used to represent the error that occurs when the user enters a negative age. The constructor of the exception takes the age as an argument and stores it in the age attribute. The constructor also calls the constructor of the parent Exception class with a message that includes the user's age.\n",
    "\n",
    "The get_age() function takes the user's input as an argument and tries to convert it to an integer. If the age is negative, the function raises a NegativeAgeError exception. The if __name__ == \"__main__\": block calls the get_age() function and handles the NegativeAgeError exception if it is raised.\n",
    "\n",
    "Custom exceptions can be used to handle a wide variety of errors. For example, you could create custom exceptions to represent errors such as:\n",
    "\n",
    "Invalid user input\n",
    "File not found\n",
    "Database connection error\n",
    "Network error\n",
    "Unexpected server response\n",
    "By using custom exceptions, you can make your code more robust and easier to maintain.\n",
    "\n",
    "Here are some of the benefits of using custom exceptions:\n",
    "\n",
    "Improved readability and maintainability: Custom exceptions can make your code more readable and maintainable by providing more specific information about the error. This can make it easier to debug your code and to fix errors.\n",
    "More flexibility: Custom exceptions allow you to handle different types of errors in different ways. For example, you could log certain types of errors to a file, while displaying others to the user.\n",
    "Reduced coupling: Custom exceptions can help to reduce coupling between different parts of your code. For example, you could define a custom exception in a library module and then use that exception in other modules that depend on the library. This can make your code more modular and reusable.\n",
    "Overall, custom exceptions are a powerful tool that can help you to write more robust and maintainable Python code."
   ]
  },
  {
   "cell_type": "markdown",
   "metadata": {},
   "source": [
    "Q6. Create a custom exception class. Use this class to handle an exception."
   ]
  },
  {
   "cell_type": "markdown",
   "metadata": {},
   "source": [
    "\n",
    "To create a custom exception class in Python, we can use the following steps:\n",
    "\n",
    "Define a new class that inherits from the Exception class.\n",
    "Add any additional attributes or methods that we need.\n",
    "Override the __init__() method to initialize our custom exception.\n",
    "Override the __str__() method to provide a custom string representation of our exception.\n",
    "Once we have defined our custom exception class, we can use it to handle exceptions in our code by using the try/except statement.\n",
    "\n",
    "Here is an example of a custom exception class:"
   ]
  },
  {
   "cell_type": "code",
   "execution_count": null,
   "metadata": {},
   "outputs": [],
   "source": [
    "class MyCustomException(Exception):\n",
    "    def __init__(self, message):\n",
    "        super().__init__(message)\n",
    "\n",
    "    def __str__(self):\n",
    "        return f\"My custom exception: {self.args[0]}\"\n",
    "\n"
   ]
  },
  {
   "cell_type": "markdown",
   "metadata": {},
   "source": [
    "We can use this custom exception class to handle exceptions in our code as follows:"
   ]
  },
  {
   "cell_type": "code",
   "execution_count": null,
   "metadata": {},
   "outputs": [],
   "source": [
    "try:\n",
    "    # Code that might raise an exception\n",
    "except MyCustomException as e:\n",
    "    # Handle the exception here\n",
    "    print(e)\n"
   ]
  },
  {
   "cell_type": "markdown",
   "metadata": {},
   "source": [
    "For example, we could use the MyCustomException class to handle an exception that might be raised when we try to open a file that does not exist:\n"
   ]
  },
  {
   "cell_type": "code",
   "execution_count": null,
   "metadata": {},
   "outputs": [],
   "source": [
    "def open_file(filename):\n",
    "    try:\n",
    "        with open(filename, \"r\") as f:\n",
    "            return f.read()\n",
    "    except FileNotFoundError:\n",
    "        raise MyCustomException(f\"File not found: {filename}\")\n",
    "\n",
    "# Example usage:\n",
    "try:\n",
    "    file_contents = open_file(\"my_file.txt\")\n",
    "except MyCustomException as e:\n",
    "    print(e)\n"
   ]
  },
  {
   "cell_type": "markdown",
   "metadata": {},
   "source": [
    "Custom exception classes can be a useful way to handle specific types of errors in your code. They can also be used to provide more informative error messages to your users."
   ]
  },
  {
   "cell_type": "markdown",
   "metadata": {},
   "source": []
  }
 ],
 "metadata": {
  "kernelspec": {
   "display_name": "Python 3",
   "language": "python",
   "name": "python3"
  },
  "language_info": {
   "codemirror_mode": {
    "name": "ipython",
    "version": 3
   },
   "file_extension": ".py",
   "mimetype": "text/x-python",
   "name": "python",
   "nbconvert_exporter": "python",
   "pygments_lexer": "ipython3",
   "version": "3.11.6"
  }
 },
 "nbformat": 4,
 "nbformat_minor": 2
}
