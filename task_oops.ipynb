{
 "cells": [
  {
   "cell_type": "markdown",
   "metadata": {},
   "source": [
    "Q1. Which function is used to open a file? What are the different modes of opening a file? Explain each mode\n",
    "of file opening.\n",
    "\n",
    "Q2. Why close() function is used? Why is it important to close a file?\n",
    "\n",
    "Q3. Write a python program to create a text file. Write ‘I want to become a Data Scientist’ in that file. Then\n",
    "close the file. Open this file and read the content of the file.\n",
    "\n",
    "Q4. Explain the following with python code: read(), readline() and readlines().\n",
    "\n",
    "Q5. Explain why with statement is used with open(). What is the advantage of using with statement and\n",
    "open() together?\n",
    "\n",
    "Q6. Explain the write() and writelines() functions. Give a suitable example.\n",
    "\n",
    "Note: Create your assignment in Jupyter notebook and upload it to GitHub & share that GitHub repository\n",
    "link through your dashboard. Make sure the repository is public."
   ]
  },
  {
   "cell_type": "markdown",
   "metadata": {},
   "source": [
    "Q1. Which function is used to open a file? What are the different modes of opening a file? Explain each mode\n",
    "of file opening."
   ]
  },
  {
   "cell_type": "markdown",
   "metadata": {},
   "source": [
    "The function used to open a file in Python is `open()`. This function takes two parameters: the first is the file name, and the second is the mode in which the file is to be opened.\n",
    "\n",
    "The different modes of opening a file are:\n",
    "\n",
    "1. Read Mode ('r'): In this mode, the file is opened for reading. If the file does not exist, an error is raised.\n",
    "\n",
    "2. Write Mode ('w'): In this mode, the file is opened for writing. If the file already exists, it is truncated (i.e., its contents are deleted). If the file does not exist, a new file is created.\n",
    "\n",
    "3. Append Mode ('a'): In this mode, the file is opened for writing, but the write operation is performed at the end of the file. If the file does not exist, a new file is created.\n",
    "\n",
    "4. Read and Write Mode ('r+' or 'w+' or 'a+' or 'x+' or 'x'): In this mode, the file is opened for both reading and writing. The file pointer is initially positioned at the beginning of the file.\n",
    "\n",
    "5. Binary Read Mode ('rb'): In this mode, the file is opened for reading in binary format.\n",
    "\n",
    "6. Binary Write Mode ('wb'): In this mode, the file is opened for writing in binary format. If the file already exists, it is truncated. If the file does not exist, a new file is created.\n",
    "\n",
    "7. Binary Append Mode ('ab'): In this mode, the file is opened for writing in binary format. The write operation is performed at the end of the file. If the file does not exist, a new file is created.\n",
    "\n",
    "8. Binary Read and Write Mode ('rb+' or 'wb+' or 'ab+' or 'xb+' or 'xb'): In this mode, the file is opened for both reading and writing in binary format. The file pointer is initially positioned at the beginning of the file.\n",
    "\n",
    "Here is an example of how to use the `open()` function:"
   ]
  },
  {
   "cell_type": "code",
   "execution_count": 2,
   "metadata": {},
   "outputs": [],
   "source": [
    "# Open a file for reading\n",
    "file = open('example.txt', 'r')\n",
    "\n",
    "# Read the contents of the file\n",
    "contents = file.read()\n",
    "\n",
    "# Close the file\n",
    "file.close()"
   ]
  },
  {
   "cell_type": "markdown",
   "metadata": {},
   "source": [
    "Q2. Why close() function is used? Why is it important to close a file?"
   ]
  },
  {
   "cell_type": "markdown",
   "metadata": {},
   "source": [
    "The `close()` function is used to close a file in Python. It is important to close a file for several reasons:\n",
    "\n",
    "1. **Free up system resources**: When a file is opened, the system allocates certain resources to it. If the file is not closed, these resources will remain allocated, which can lead to resource exhaustion.\n",
    "\n",
    "2. **Ensure data integrity**: When a file is closed, any buffered data is written to the file. This ensures that all data is written to the file, preventing data loss.\n",
    "\n",
    "3. **Allow other processes to access the file**: When a file is opened, it is locked by the system to prevent other processes from accessing it. When the file is closed, the lock is released, allowing other processes to access the file.\n",
    "\n",
    "4. **Prevent file corruption**: If a program crashes or is terminated before the `close()` function is called, the file may remain open, leading to potential file corruption.\n",
    "\n",
    "In summary, the `close()` function is used to close a file and release the resources it holds. It is important to close a file to ensure data integrity, prevent file corruption, and allow other processes to access the file.\n",
    "\n",
    "Here is an example of how to use the `close()` function:"
   ]
  },
  {
   "cell_type": "code",
   "execution_count": 3,
   "metadata": {},
   "outputs": [],
   "source": [
    "# Open a file for reading\n",
    "file = open('example.txt', 'r')\n",
    "\n",
    "# Read the contents of the file\n",
    "contents = file.read()\n",
    "\n",
    "# Close the file\n",
    "file.close()"
   ]
  },
  {
   "cell_type": "markdown",
   "metadata": {},
   "source": [
    "Q3. Write a python program to create a text file. Write ‘I want to become a Data Scientist’ in that file. Then\n",
    "close the file. Open this file and read the content of the file."
   ]
  },
  {
   "cell_type": "code",
   "execution_count": 4,
   "metadata": {},
   "outputs": [
    {
     "name": "stdout",
     "output_type": "stream",
     "text": [
      "I want to become a Data Scientist\n"
     ]
    }
   ],
   "source": [
    "# Create a text file\n",
    "file = open('my_file.txt', 'w')\n",
    "\n",
    "# Write the desired content to the file\n",
    "file.write('I want to become a Data Scientist')\n",
    "\n",
    "# Close the file\n",
    "file.close()\n",
    "\n",
    "# Open the file and read its content\n",
    "file = open('my_file.txt', 'r')\n",
    "content = file.read()\n",
    "\n",
    "# Print the content of the file\n",
    "print(content)\n",
    "\n",
    "# Close the file\n",
    "file.close()"
   ]
  },
  {
   "cell_type": "markdown",
   "metadata": {},
   "source": [
    "In this program, we first create a text file named 'my_file.txt' using the `open()` function with the 'w' mode. This mode is used to open a file for writing. We then write the desired content 'I want to become a Data Scientist' to the file using the `write()` method. After writing the content, we close the file using the `close()` method.\n",
    "\n",
    "Next, we open the file again using the `open()` function with the 'r' mode. This mode is used to open a file for reading. We then read the content of the file using the `read()` method and store it in the variable `content`. Finally, we print the content of the file and close the file using the `close()` method.\n",
    "\n",
    "When you run this program, it will create a text file named 'my_file.txt' in the same directory as your Python script, write the desired content to the file, and then print the content of the file."
   ]
  },
  {
   "cell_type": "markdown",
   "metadata": {},
   "source": [
    "Q4. Explain the following with python code: read(), readline() and readlines()."
   ]
  },
  {
   "cell_type": "markdown",
   "metadata": {},
   "source": [
    "1. read()\n",
    "\n",
    "The `read()` function reads a specified number of bytes from the file. If no number of bytes is specified, it reads the entire file.\n",
    "\n",
    "Here's an example:"
   ]
  },
  {
   "cell_type": "code",
   "execution_count": 5,
   "metadata": {},
   "outputs": [
    {
     "name": "stdout",
     "output_type": "stream",
     "text": [
      "I want to become a Data Scientist\n"
     ]
    }
   ],
   "source": [
    "# Open the file in read mode\n",
    "file = open('my_file.txt', 'r')\n",
    "\n",
    "# Read all the lines of the file\n",
    "lines = file.readlines()\n",
    "\n",
    "# Print the lines of the file\n",
    "for line in lines:\n",
    "    print(line)\n",
    "\n",
    "# Close the file\n",
    "file.close()"
   ]
  },
  {
   "cell_type": "markdown",
   "metadata": {},
   "source": [
    "Q5. Explain why with statement is used with open(). What is the advantage of using with statement and\n",
    "open() together?"
   ]
  },
  {
   "cell_type": "markdown",
   "metadata": {},
   "source": [
    "The `with` statement is used in Python to simplify the management of resources, such as file handles. It is commonly used with the `open()` function, which opens a file and returns a file object.\n",
    "\n",
    "The advantage of using the `with` statement and `open()` together is that it ensures the file is properly closed after it is no longer needed. This is particularly important when working with large files or when many files need to be opened and closed in a short period of time.\n",
    "\n",
    "Here's an example of how to use `with` and `open()` together:"
   ]
  },
  {
   "cell_type": "code",
   "execution_count": 6,
   "metadata": {},
   "outputs": [
    {
     "name": "stdout",
     "output_type": "stream",
     "text": [
      "I want to become a Data Scientist\n"
     ]
    }
   ],
   "source": [
    "with open('my_file.txt', 'r') as file:\n",
    "    content = file.read()\n",
    "    print(content)"
   ]
  },
  {
   "cell_type": "markdown",
   "metadata": {},
   "source": [
    "In this example, the `with` statement is used to open the file 'my_file.txt' in read mode. The `as` keyword is used to assign the file object to the variable `file`. The `with` statement ensures that the file is closed automatically after the block of code inside the `with` statement is executed. This makes the code more concise and easier to read.\n",
    "\n",
    "In summary, the `with` statement is used with `open()` to simplify the management of resources and ensure that they are properly closed after they are no longer needed"
   ]
  },
  {
   "cell_type": "markdown",
   "metadata": {},
   "source": [
    "Q6. Explain the write() and writelines() functions. Give a suitable example."
   ]
  },
  {
   "cell_type": "markdown",
   "metadata": {},
   "source": [
    "The `write()` and `writelines()` functions are methods of the file object in Python. They are used to write data to a file.\n",
    "\n",
    "1. `write()` function: This function writes a string to a file. It takes a single argument, which is the string to be written. The `write()` function returns the number of characters written, which can be useful for error checking.\n",
    "\n",
    "Here's an example of how to use the `write()` function:"
   ]
  },
  {
   "cell_type": "code",
   "execution_count": 7,
   "metadata": {},
   "outputs": [],
   "source": [
    "with open('my_file.txt', 'w') as file:\n",
    "    file.write('Hello, World!')"
   ]
  },
  {
   "cell_type": "markdown",
   "metadata": {},
   "source": [
    "In this example, the `write()` function is used to write the string 'Hello, World!' to the file 'my_file.txt'. The file is opened in write mode ('w'), which means that if the file already exists, its contents will be overwritten.\n",
    "\n",
    "2. `writelines()` function: This function writes a sequence of strings to a file. It takes a single argument, which is a sequence of strings. Each string in the sequence is written to the file, followed by a newline character. The `writelines()` function does not return any value.\n",
    "\n",
    "Here's an example of how to use the `writelines()` function:\n"
   ]
  },
  {
   "cell_type": "code",
   "execution_count": 8,
   "metadata": {},
   "outputs": [],
   "source": [
    "\n",
    "with open('my_file.txt', 'w') as file:\n",
    "    file.writelines(['Hello,', 'World!'])"
   ]
  },
  {
   "cell_type": "markdown",
   "metadata": {},
   "source": [
    "In this example, the `writelines()` function is used to write the strings 'Hello,' and 'World!' to the file 'my_file.txt'. Each string is followed by a newline character. The file is opened in write mode ('w'), which means that if the file already exists, its contents will be overwritten.\n",
    "\n",
    "In summary, the `write()` function is used to write a single string to a file, while the `writelines()` function is used to write a sequence of strings to a file. Both functions return the number of characters written by the `write()` function and do not return any value for the `writelines()` function."
   ]
  },
  {
   "cell_type": "code",
   "execution_count": null,
   "metadata": {},
   "outputs": [],
   "source": []
  }
 ],
 "metadata": {
  "kernelspec": {
   "display_name": "Python 3",
   "language": "python",
   "name": "python3"
  },
  "language_info": {
   "codemirror_mode": {
    "name": "ipython",
    "version": 3
   },
   "file_extension": ".py",
   "mimetype": "text/x-python",
   "name": "python",
   "nbconvert_exporter": "python",
   "pygments_lexer": "ipython3",
   "version": "3.11.6"
  }
 },
 "nbformat": 4,
 "nbformat_minor": 2
}
