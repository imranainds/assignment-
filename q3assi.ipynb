{
 "cells": [
  {
   "cell_type": "markdown",
   "metadata": {},
   "source": [
    "The `abc` module in Python is used to define Abstract Base Classes (ABCs). ABCs are a type of class that cannot be instantiated, but can be subclassed. They are particularly useful when you want to define a common interface for a group of related classes, without providing a default implementation.\n",
    "\n",
    "The `abc` module provides a decorator `@abstractmethod` that can be used to indicate that a method should be overridden by any concrete subclass."
   ]
  },
  {
   "cell_type": "code",
   "execution_count": 2,
   "metadata": {},
   "outputs": [],
   "source": [
    "\n",
    "from abc import ABC, abstractmethod\n",
    "\n",
    "class Animal(ABC):\n",
    "    @abstractmethod\n",
    "    def speak(self):\n",
    "        pass\n",
    "\n",
    "class Dog(Animal):\n",
    "    def speak(self):\n",
    "        return \"Woof!\"\n",
    "\n",
    "class Cat(Animal):\n",
    "    def speak(self):\n",
    "        return \"Meow!\"\n",
    "\n",
    "class Parrot(Animal):\n",
    "    def speak(self):\n",
    "        return \"Hello!\""
   ]
  },
  {
   "cell_type": "code",
   "execution_count": 4,
   "metadata": {},
   "outputs": [
    {
     "ename": "TypeError",
     "evalue": "Can't instantiate abstract class Animal with abstract method speak",
     "output_type": "error",
     "traceback": [
      "\u001b[1;31m---------------------------------------------------------------------------\u001b[0m",
      "\u001b[1;31mTypeError\u001b[0m                                 Traceback (most recent call last)",
      "\u001b[1;32mc:\\Users\\MD IMRAN\\Desktop\\coding\\data science master\\oops\\q3assi.ipynb Cell 3\u001b[0m line \u001b[0;36m1\n\u001b[1;32m----> <a href='vscode-notebook-cell:/c%3A/Users/MD%20IMRAN/Desktop/coding/data%20science%20master/oops/q3assi.ipynb#W3sZmlsZQ%3D%3D?line=0'>1</a>\u001b[0m animal \u001b[39m=\u001b[39m Animal() \n\u001b[0;32m      <a href='vscode-notebook-cell:/c%3A/Users/MD%20IMRAN/Desktop/coding/data%20science%20master/oops/q3assi.ipynb#W3sZmlsZQ%3D%3D?line=1'>2</a>\u001b[0m \u001b[39m# Raises TypeError: Can't instantiate abstract class Animal with abstract methods speak\u001b[39;00m\n",
      "\u001b[1;31mTypeError\u001b[0m: Can't instantiate abstract class Animal with abstract method speak"
     ]
    }
   ],
   "source": [
    "\n",
    "animal = Animal() \n",
    "# Raises TypeError: Can't instantiate abstract class Animal with abstract methods speak"
   ]
  },
  {
   "cell_type": "code",
   "execution_count": 6,
   "metadata": {},
   "outputs": [
    {
     "name": "stdout",
     "output_type": "stream",
     "text": [
      "Woof!\n",
      "Meow!\n",
      "Hello!\n"
     ]
    }
   ],
   "source": [
    "\n",
    "dog = Dog()\n",
    "cat = Cat()\n",
    "parrot = Parrot()\n",
    "\n",
    "print(dog.speak()) # Outputs: \"Woof!\"\n",
    "print(cat.speak()) # Outputs: \"Meow!\"\n",
    "print(parrot.speak()) # Outputs: \"Hello!\""
   ]
  },
  {
   "cell_type": "code",
   "execution_count": null,
   "metadata": {},
   "outputs": [],
   "source": []
  }
 ],
 "metadata": {
  "kernelspec": {
   "display_name": "Python 3",
   "language": "python",
   "name": "python3"
  },
  "language_info": {
   "codemirror_mode": {
    "name": "ipython",
    "version": 3
   },
   "file_extension": ".py",
   "mimetype": "text/x-python",
   "name": "python",
   "nbconvert_exporter": "python",
   "pygments_lexer": "ipython3",
   "version": "3.11.1"
  }
 },
 "nbformat": 4,
 "nbformat_minor": 2
}
