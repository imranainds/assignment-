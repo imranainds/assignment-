{
 "cells": [
  {
   "cell_type": "code",
   "execution_count": 3,
   "id": "f5c9f55e-c6c1-4206-8670-687c99777018",
   "metadata": {},
   "outputs": [],
   "source": [
    "# A for loop is useful when you know how many times you want to iterate through a block of code. It is a compact and readable way of looping over a range of values or items in a list, tuple, or dictionary. Here's an example of a for loop that prints out the numbers from 1 to 5:"
   ]
  },
  {
   "cell_type": "code",
   "execution_count": 4,
   "id": "6ddd2147-a65f-457b-80d3-02682511ee2a",
   "metadata": {},
   "outputs": [
    {
     "name": "stdout",
     "output_type": "stream",
     "text": [
      "1\n",
      "2\n",
      "3\n",
      "4\n",
      "5\n"
     ]
    }
   ],
   "source": [
    "for i in range(1, 6):\n",
    "    print(i)"
   ]
  },
  {
   "cell_type": "code",
   "execution_count": 5,
   "id": "07248ef4-5e50-423f-8d0d-956e7a0c5e03",
   "metadata": {},
   "outputs": [],
   "source": [
    "# On the other hand, a while loop is useful when you want to repeatedly execute a block of code while a certain condition is true. The loop will continue to execute until the condition becomes false. Here's an example of a while loop that prints out the numbers from 1 to 5"
   ]
  },
  {
   "cell_type": "code",
   "execution_count": 6,
   "id": "9901418c-f44b-469c-85b6-94e02a5a3227",
   "metadata": {},
   "outputs": [
    {
     "name": "stdout",
     "output_type": "stream",
     "text": [
      "1\n",
      "2\n",
      "3\n",
      "4\n",
      "5\n"
     ]
    }
   ],
   "source": [
    "i = 1\n",
    "while i <= 5:\n",
    "    print(i)\n",
    "    i += 1\n"
   ]
  },
  {
   "cell_type": "code",
   "execution_count": null,
   "id": "a1ead572-75a7-42dd-adb6-af7a19b25c49",
   "metadata": {},
   "outputs": [],
   "source": [
    "# Q.. 2 Write a python program to print the sum and product of the first 10 natural numbers using for\n",
    "# and while loop."
   ]
  },
  {
   "cell_type": "code",
   "execution_count": null,
   "id": "39dab393-b1d4-4cf3-ac13-5d7dd584d46c",
   "metadata": {},
   "outputs": [],
   "source": [
    "# Using For Loop:"
   ]
  },
  {
   "cell_type": "code",
   "execution_count": 7,
   "id": "e99ad3ac-1ae7-40e8-8c32-f5d86c91b719",
   "metadata": {},
   "outputs": [
    {
     "name": "stdout",
     "output_type": "stream",
     "text": [
      "Sum of first 10 natural numbers: 55\n",
      "Product of first 10 natural numbers: 3628800\n"
     ]
    }
   ],
   "source": [
    "# Computing the sum and product of first 10 natural numbers using for loop\n",
    "\n",
    "sum = 0\n",
    "product = 1\n",
    "\n",
    "for i in range(1, 11):\n",
    "    sum += i\n",
    "    product *= i\n",
    "\n",
    "print(\"Sum of first 10 natural numbers:\", sum)\n",
    "print(\"Product of first 10 natural numbers:\", product)"
   ]
  },
  {
   "cell_type": "code",
   "execution_count": 9,
   "id": "6938c96e-0322-458b-9d4e-affab05430da",
   "metadata": {},
   "outputs": [
    {
     "name": "stdout",
     "output_type": "stream",
     "text": [
      "Sum of first 10 natural numbers: 55\n",
      "Product of first 10 natural numbers: 3628800\n"
     ]
    }
   ],
   "source": [
    "# Using While Loop:\n",
    "# Computing the sum and product of first 10 natural numbers using while loop\n",
    "\n",
    "sum = 0\n",
    "product = 1\n",
    "i = 1\n",
    "\n",
    "while i <= 10:\n",
    "    sum += i\n",
    "    product *= i\n",
    "    i += 1\n",
    "\n",
    "print(\"Sum of first 10 natural numbers:\", sum)\n",
    "print(\"Product of first 10 natural numbers:\", product)"
   ]
  },
  {
   "cell_type": "code",
   "execution_count": 10,
   "id": "47586ea2-db15-4ab0-9aae-587092f58751",
   "metadata": {},
   "outputs": [],
   "source": [
    "# Both programs will give the same output, which is the sum and product of the first 10 natural numbers (1 to 10)."
   ]
  },
  {
   "cell_type": "code",
   "execution_count": 11,
   "id": "7524bf00-1026-440a-bfa4-ef5b248c82b0",
   "metadata": {},
   "outputs": [
    {
     "name": "stdin",
     "output_type": "stream",
     "text": [
      "Enter the units consumed:  66\n"
     ]
    },
    {
     "name": "stdout",
     "output_type": "stream",
     "text": [
      "Total electricity bill: 297.0\n"
     ]
    }
   ],
   "source": [
    "# Q.. 3 :-  The per-unit charges in rupees are as follows: For the first 100 units, the user will be charged Rs. 4.5 per\n",
    "# unit, for the next 100 units, the user will be charged Rs. 6 per unit, and for the next 100 units, the user will\n",
    "# be charged Rs. 10 per unit, After 300 units and above the user will be charged Rs. 20 per unit.\n",
    "\n",
    "\n",
    "# You are required to take the units of electricity consumed in a month from the user as input.\n",
    "\n",
    "\n",
    "# Your program must pass this test case: when the unit of electricity consumed by the user in a month is\n",
    "# 310, the total electricity bill should be 2250.\n",
    "\n",
    "# Taking input from user for the units consumed\n",
    "units = int(input(\"Enter the units consumed: \"))\n",
    "\n",
    "# Initial bill amount\n",
    "bill = 0\n",
    "\n",
    "# Calculating bill based on number of units consumed\n",
    "if units <= 100:\n",
    "    bill = units * 4.5\n",
    "elif units <= 200:\n",
    "    bill = 100 * 4.5 + (units - 100) * 6\n",
    "elif units <= 300:\n",
    "    bill = 100 * 4.5 + 100 * 6 + (units - 200) * 10\n",
    "else:\n",
    "    bill = 100 * 4.5 + 100 * 6 + 100 * 10 + (units - 300) * 20\n",
    "\n",
    "# Printing the total bill amount\n",
    "print(\"Total electricity bill:\", bill)"
   ]
  },
  {
   "cell_type": "code",
   "execution_count": null,
   "id": "f3a03e29-8729-4cc0-9c36-bdccc895570a",
   "metadata": {},
   "outputs": [],
   "source": [
    "# Explanation:\n",
    "\n",
    "# The program first takes the input for the number of units consumed in a month. Based on this input, the program uses conditional statements to calculate the bill amount.\n",
    "\n",
    "# If the units consumed are less than or equal to 100, the program multiplies the units by the charge of Rs. 4.5 per unit.\n",
    "\n",
    "# If the units consumed are between 101 and 200, the program charges Rs. 4.5 per unit for the first 100 units and Rs. 6 per unit for the remaining units.\n",
    "\n",
    "# If the units consumed are between 201 and 300, the program charges Rs. 4.5 per unit for the first 100 units, Rs. 6 per unit for the next 100 units, and Rs. 10 per unit for the remaining units.\n",
    "\n",
    "# If the units consumed are greater than 300, the program charges Rs. 4.5 per unit for the first 100 units, Rs. 6 per unit for the next 100 units, Rs. 10 per unit for the next 100 units, and Rs. 20 per unit for the remaining units.\n",
    "\n",
    "# Finally, the program prints the total bill amount.\n",
    "\n",
    "# Test Case:\n",
    "\n",
    "# When the input is 310, the program calculates the bill as follows:\n",
    "\n",
    "# 100 units * Rs. 4.5 per unit = Rs. 450\n",
    "# 100 units * Rs. 6 per unit = Rs. 600\n",
    "# 100 units * Rs. 10 per unit = Rs. 1000\n",
    "# 10 units * Rs. 20 per unit = Rs. 200\n",
    "\n",
    "# Total bill amount = Rs. 450 + Rs. 600 + Rs. 1000 + Rs. 200 = Rs. 2250\n",
    "\n",
    "# The program correctly calculates the bill amount as Rs. 2250, passing the test case"
   ]
  },
  {
   "cell_type": "code",
   "execution_count": 12,
   "id": "9a482308-4288-428b-a93a-d3a5056682db",
   "metadata": {},
   "outputs": [
    {
     "name": "stdout",
     "output_type": "stream",
     "text": [
      "Numbers whose cube is divisible by 4 or 5 using for loop: [2, 4, 5, 6, 8, 10, 12, 14, 15, 16, 18, 20, 22, 24, 25, 26, 28, 30, 32, 34, 35, 36, 38, 40, 42, 44, 45, 46, 48, 50, 52, 54, 55, 56, 58, 60, 62, 64, 65, 66, 68, 70, 72, 74, 75, 76, 78, 80, 82, 84, 85, 86, 88, 90, 92, 94, 95, 96, 98, 100]\n"
     ]
    }
   ],
   "source": [
    "# Q... 4 :-- Create a list of numbers from 1 to 100. Use for loop and while loop to calculate the cube of each\n",
    "# number and if the cube of that number is divisible by 4 or 5 then append that number in a list and print\n",
    "# that list.\n",
    "                                    \n",
    "                                        # Using For Loop:\n",
    "        \n",
    "        \n",
    "        \n",
    "    # Creating a list of numbers from 1 to 100\n",
    "numbers = list(range(1, 101))\n",
    "\n",
    "# Initializing an empty list to store the cube of numbers divisible by 4 or 5\n",
    "result = []\n",
    "\n",
    "# Computing the cube of each number in the list using a for loop\n",
    "for num in numbers:\n",
    "    cube = num ** 3\n",
    "    if cube % 4 == 0 or cube % 5 == 0:\n",
    "        result.append(num)\n",
    "\n",
    "# Printing the result list\n",
    "print(\"Numbers whose cube is divisible by 4 or 5 using for loop:\", result)"
   ]
  },
  {
   "cell_type": "code",
   "execution_count": 14,
   "id": "e936de84-1c87-4fa1-b6ac-b94583f2782a",
   "metadata": {},
   "outputs": [
    {
     "name": "stdout",
     "output_type": "stream",
     "text": [
      "Numbers whose cube is divisible by 4 or 5 using while loop: [2, 4, 5, 6, 8, 10, 12, 14, 15, 16, 18, 20, 22, 24, 25, 26, 28, 30, 32, 34, 35, 36, 38, 40, 42, 44, 45, 46, 48, 50, 52, 54, 55, 56, 58, 60, 62, 64, 65, 66, 68, 70, 72, 74, 75, 76, 78, 80, 82, 84, 85, 86, 88, 90, 92, 94, 95, 96, 98, 100]\n"
     ]
    }
   ],
   "source": [
    "                                        # Using While Loop:\n",
    "    \n",
    "    # Creating a list of numbers from 1 to 100\n",
    "numbers = list(range(1, 101))\n",
    "\n",
    "# Initializing an empty list to store the cube of numbers divisible by 4 or 5\n",
    "result = []\n",
    "\n",
    "# Initializing a counter variable\n",
    "i = 0\n",
    "\n",
    "# Computing the cube of each number in the list using a while loop\n",
    "while i < len(numbers):\n",
    "    cube = numbers[i] ** 3\n",
    "    if cube % 4 == 0 or cube % 5 == 0:\n",
    "        result.append(numbers[i])\n",
    "    i += 1\n",
    "\n",
    "# Printing the result list\n",
    "print(\"Numbers whose cube is divisible by 4 or 5 using while loop:\", result)"
   ]
  },
  {
   "cell_type": "code",
   "execution_count": 15,
   "id": "eb3fb474-fdf4-47b4-acc1-fcc854c9e4dd",
   "metadata": {},
   "outputs": [
    {
     "name": "stdout",
     "output_type": "stream",
     "text": [
      "The number of vowels in the string is: 12\n"
     ]
    }
   ],
   "source": [
    "# Q... 5:_--  Write a program to filter count vowels in the below-given string.\n",
    "\n",
    "# string = \"I want to become a data scientist\"\n",
    "\n",
    "\n",
    "string = \"I want to become a data scientist\"\n",
    "\n",
    "# Converting the string to lowercase\n",
    "string = string.lower()\n",
    "\n",
    "# Initializing the count variable\n",
    "count = 0\n",
    "\n",
    "# Looping through each character in the string\n",
    "for char in string:\n",
    "    if char in \"aeiou\":\n",
    "        count += 1\n",
    "\n",
    "# Printing the count of vowels in the string\n",
    "print(\"The number of vowels in the string is:\", count)"
   ]
  },
  {
   "cell_type": "code",
   "execution_count": null,
   "id": "f65ddd72-a941-4dee-b4da-d3ca5d633f76",
   "metadata": {},
   "outputs": [],
   "source": []
  }
 ],
 "metadata": {
  "kernelspec": {
   "display_name": "Python 3 (ipykernel)",
   "language": "python",
   "name": "python3"
  },
  "language_info": {
   "codemirror_mode": {
    "name": "ipython",
    "version": 3
   },
   "file_extension": ".py",
   "mimetype": "text/x-python",
   "name": "python",
   "nbconvert_exporter": "python",
   "pygments_lexer": "ipython3",
   "version": "3.10.8"
  }
 },
 "nbformat": 4,
 "nbformat_minor": 5
}
