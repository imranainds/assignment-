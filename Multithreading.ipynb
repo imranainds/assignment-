{
 "cells": [
  {
   "cell_type": "markdown",
   "metadata": {},
   "source": [
    "Q1. hat is multithreading in python? hy is it used? Name the module used to handle threads in python\n",
    "\n",
    "Q2. hy threading module used? rite the use of the following functions\n",
    "\n",
    "1. activeCount()\n",
    "2. currentThread()\n",
    "3. enumerate()\n",
    "\n",
    "Q3. Explain the following functions:\n",
    "\n",
    "1. run()\n",
    "3. start()\n",
    "2. join\n",
    "4. isAlive()\n",
    "\n",
    "Q4. rite a python program to create two threads. Thread one must print the list of squares and thread\n",
    "two must print the list of cubes.\n",
    "\n",
    "Q5. State advantages and disadvantages of multithreading\n",
    "\n",
    "Q6. Explain deadlocks and race conditions.\n"
   ]
  },
  {
   "cell_type": "markdown",
   "metadata": {},
   "source": [
    "Q1: What is multithreading in Python? Why is it used? Name the module used to handle threads in Python."
   ]
  },
  {
   "cell_type": "markdown",
   "metadata": {},
   "source": [
    "Multithreading in Python: Multithreading is a concurrent execution technique that allows multiple threads to exist within the context of a single process. Threads share the same data space, which makes it easier to share data between threads. In Python, the threading module is used to handle threads."
   ]
  },
  {
   "cell_type": "markdown",
   "metadata": {},
   "source": [
    "Q2. hy threading module used? rite the use of the following functions\n",
    "\n",
    "1. activeCount()\n",
    "2. currentThread()\n",
    "3. enumerate()"
   ]
  },
  {
   "cell_type": "markdown",
   "metadata": {},
   "source": [
    "1 activeCount(): This function returns the number of Thread objects currently alive. An Thread object is alive if it has been started and has not yet been joined or terminated.\n",
    "\n",
    "2 currentThread(): This function returns the current Thread object, corresponding to the caller's thread of control.\n",
    "\n",
    "3 enumerate(): This function returns a list of all Thread objects currently alive."
   ]
  },
  {
   "cell_type": "markdown",
   "metadata": {},
   "source": [
    "Q3. Explain the following functions:\n",
    "\n",
    "1. run()\n",
    "3. start()\n",
    "2. join\n",
    "4. isAlive()"
   ]
  },
  {
   "cell_type": "markdown",
   "metadata": {},
   "source": [
    "1. run(): The run() method is the entry point for a thread. It contains the code that will be executed when the thread is started.\n",
    "\n",
    "2. start(): The start() method starts a new thread, calling the run() method.\n",
    "\n",
    "3. join(): The join() method waits for a thread to complete its execution. It blocks the calling thread until the thread whose join() method is called is terminated.\n",
    "\n",
    "4. isAlive(): The isAlive() method checks whether a thread is still executing (alive) or has terminated."
   ]
  },
  {
   "cell_type": "markdown",
   "metadata": {},
   "source": [
    "Q4: Write a Python program to create two threads. Thread one must print the list of squares and thread two must print the list of cubes."
   ]
  },
  {
   "cell_type": "code",
   "execution_count": 2,
   "metadata": {},
   "outputs": [
    {
     "name": "stdout",
     "output_type": "stream",
     "text": [
      "Square of 1 is 1\n",
      "Square of 2 is 4\n",
      "Square of 3 is 9\n",
      "Square of 4 is 16\n",
      "Square of 5 is 25\n",
      "Cube of 1 is 1\n",
      "Cube of 2 is 8\n",
      "Cube of 3 is 27\n",
      "Cube of 4 is 64\n",
      "Cube of 5 is 125\n",
      "Both threads have finished executing.\n"
     ]
    }
   ],
   "source": [
    "import threading\n",
    "\n",
    "def print_squares():\n",
    "    for i in range(1, 6):\n",
    "        print(f\"Square of {i} is {i*i}\")\n",
    "\n",
    "def print_cubes():\n",
    "    for i in range(1, 6):\n",
    "        print(f\"Cube of {i} is {i*i*i}\")\n",
    "\n",
    "# Create threads\n",
    "thread1 = threading.Thread(target=print_squares)\n",
    "thread2 = threading.Thread(target=print_cubes)\n",
    "\n",
    "# Start threads\n",
    "thread1.start()\n",
    "thread2.start()\n",
    "\n",
    "# Wait for both threads to finish\n",
    "thread1.join()\n",
    "thread2.join()\n",
    "\n",
    "print(\"Both threads have finished executing.\")\n"
   ]
  },
  {
   "cell_type": "markdown",
   "metadata": {},
   "source": [
    "Q5: Advantages and Disadvantages of Multithreading:\n"
   ]
  },
  {
   "cell_type": "markdown",
   "metadata": {},
   "source": [
    "Advantages:\n",
    "\n",
    "❤️ Improved performance: Multithreading can lead to significant performance improvements, especially in tasks that involve I/O operations.\n",
    "\n",
    "❤️ Resource sharing: Threads within the same process share the same memory space, making it easier to share data between threads.\n",
    "\n",
    "❤️ Responsiveness: Multithreading can help in keeping a program responsive to user interactions, even when some threads are blocked.\n",
    "\n",
    "❤️ Simplified code: Certain tasks can be expressed more simply when decomposed into threads.\n",
    "\n",
    "Disadvantages:\n",
    "\n",
    "💔 Complexity: Multithreading can make the program more complex and harder to debug due to shared data and potential race conditions.\n",
    "\n",
    "💔 Synchronization issues: Managing access to shared resources among threads can lead to synchronization problems like race conditions and deadlocks.\n",
    "\n",
    "💔 Potential for bugs: Multithreading can introduce hard-to-reproduce bugs, such as race conditions, that are difficult to detect and fix.\n",
    "\n",
    "💔 GIL (Global Interpreter Lock) in CPython: In CPython, the Global Interpreter Lock allows only one thread to execute in the interpreter at a time, limiting the true parallelism achievable with multithreading."
   ]
  },
  {
   "cell_type": "markdown",
   "metadata": {},
   "source": [
    "Q6: Explain deadlocks and race conditions."
   ]
  },
  {
   "cell_type": "markdown",
   "metadata": {},
   "source": [
    "Deadlock:\n",
    "\n",
    "A deadlock occurs in a multithreaded program when two or more threads are blocked forever, each waiting for the other to release a resource. In other words, a set of processes are deadlocked if each process is waiting for an event that only another process in the set can cause. Deadlocks can happen due to improper synchronization and can be challenging to detect and resolve.\n",
    "\n",
    "Race Condition:\n",
    "\n",
    "A race condition occurs when two or more threads access shared data and try to change it at the same time. The final outcome (and the program's behavior) depends on the order of execution of the threads. Race conditions can lead to unpredictable behavior and data corruption. They are typically resolved using synchronization techniques like locks to ensure that only one thread can access the shared data at any given time.\n",
    "\n",
    "Example of a Race Condition in Python:"
   ]
  },
  {
   "cell_type": "code",
   "execution_count": 3,
   "metadata": {},
   "outputs": [
    {
     "name": "stdout",
     "output_type": "stream",
     "text": [
      "Counter: 2000000\n"
     ]
    }
   ],
   "source": [
    "import threading\n",
    "\n",
    "counter = 0\n",
    "\n",
    "def increment():\n",
    "    global counter\n",
    "    for _ in range(1000000):\n",
    "        counter += 1\n",
    "\n",
    "# Create two threads that increment the counter\n",
    "thread1 = threading.Thread(target=increment)\n",
    "thread2 = threading.Thread(target=increment)\n",
    "\n",
    "# Start the threads\n",
    "thread1.start()\n",
    "thread2.start()\n",
    "\n",
    "# Wait for both threads to finish\n",
    "thread1.join()\n",
    "thread2.join()\n",
    "\n",
    "print(\"Counter:\", counter)  # The expected value is 2000000, but due to the race condition, it may vary.\n"
   ]
  },
  {
   "cell_type": "markdown",
   "metadata": {},
   "source": []
  }
 ],
 "metadata": {
  "kernelspec": {
   "display_name": "Python 3",
   "language": "python",
   "name": "python3"
  },
  "language_info": {
   "codemirror_mode": {
    "name": "ipython",
    "version": 3
   },
   "file_extension": ".py",
   "mimetype": "text/x-python",
   "name": "python",
   "nbconvert_exporter": "python",
   "pygments_lexer": "ipython3",
   "version": "3.11.6"
  }
 },
 "nbformat": 4,
 "nbformat_minor": 2
}
